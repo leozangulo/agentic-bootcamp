{
 "cells": [
  {
   "cell_type": "code",
   "execution_count": 2,
   "id": "d6cc21bd-da21-4211-a08e-739ce934f43f",
   "metadata": {},
   "outputs": [],
   "source": [
    "import requests, json"
   ]
  },
  {
   "cell_type": "code",
   "execution_count": 32,
   "id": "a5b44517-0130-45d7-8536-1155e812eebe",
   "metadata": {},
   "outputs": [],
   "source": [
    "def get_bt(apikey):\n",
    "    headers = {\n",
    "        'Content-Type': 'application/x-www-form-urlencoded',\n",
    "    }\n",
    "    data = 'grant_type=urn:ibm:params:oauth:grant-type:apikey&apikey='+apikey\n",
    "    response = requests.post('https://iam.cloud.ibm.com/identity/token', headers=headers, data=data)\n",
    "    my_json = response._content.decode('utf8').replace(\"'\", '\"')\n",
    "    data = json.loads(my_json)\n",
    "    s = json.dumps(data, indent=4, sort_keys=True)\n",
    "    s = json.loads(s)\n",
    "    return s['access_token']"
   ]
  },
  {
   "cell_type": "code",
   "execution_count": null,
   "id": "dce11d65-cad3-4cda-bc89-6aa70eaf0d95",
   "metadata": {},
   "outputs": [],
   "source": [
    "data = {\n",
    "    \"input_data\": [\n",
    "        \"fields\": [\n",
    "            \"uno\",\n",
    "            \"dos\"\n",
    "        ]\n",
    "    ],\n",
    "    \"values\": [\n",
    "        \"val1\",\n",
    "        1\n",
    "    ]\n",
    "}"
   ]
  },
  {
   "cell_type": "code",
   "execution_count": 82,
   "id": "22f597f0-d9fe-41ab-b69a-560d5ba802e7",
   "metadata": {},
   "outputs": [],
   "source": [
    "def get_prediction(token, data):    \n",
    "    headers = {\n",
    "        'Authorization': \"Bearer \"+token,\n",
    "        'Content-Type': 'application/json',\n",
    "    }\n",
    "    params = {\n",
    "        'version': '2020-09-01',\n",
    "    }\n",
    "    #data = data_get\n",
    "    #raw_data = json.dumps(data)\n",
    "    response = requests.post(\n",
    "        'https://us-south.ml.cloud.ibm.com/ml/v4/deployments/44eb1238-82a0-49e7-83bd-50285525925e/predictions',\n",
    "        params=params,\n",
    "        headers=headers,\n",
    "        data=json.dumps(data),\n",
    "    )\n",
    "    return response"
   ]
  },
  {
   "cell_type": "code",
   "execution_count": 88,
   "id": "22287a02-fd11-4a7e-8bda-7cd1de5688b8",
   "metadata": {},
   "outputs": [],
   "source": [
    "data = {\n",
    "    \"input_data\": [\n",
    "        {\n",
    "            \"fields\": [\n",
    "                \"CustomerID\",\n",
    "                \"CheckingStatus\",\n",
    "                \"LoanDuration\",\n",
    "                \"CreditHistory\",\n",
    "                \"LoanPurpose\",\n",
    "                \"LoanAmount\",\n",
    "                \"ExistingSavings\",\n",
    "                \"EmploymentDuration\",\n",
    "                \"InstallmentPercent\",\n",
    "                \"Sex\",\n",
    "                \"OthersOnLoan\",\n",
    "                \"CurrentResidenceDuration\",\n",
    "                \"OwnsProperty\",\n",
    "                \"Age\",\n",
    "                \"InstallmentPlans\",\n",
    "                \"Housing\",\n",
    "                \"ExistingCreditsCount\",\n",
    "                \"Job\",\n",
    "                \"Dependents\",\n",
    "                \"Telephone\",\n",
    "                \"ForeignWorker\"\n",
    "            ],\n",
    "            \"values\": [\n",
    "                [\n",
    "                    \"713a336c-a255-4e2d-9d57-90b3e99e2f06\",\n",
    "                    \"0_to_200\",\n",
    "                    31,\n",
    "                    \"credits_paid_to_date\",\n",
    "                    \"other\",\n",
    "                    1889,\n",
    "                    \"100_to_500\",\n",
    "                    \"less_1\",\n",
    "                    3,\n",
    "                    \"female\",\n",
    "                    \"none\",\n",
    "                    3,\n",
    "                    \"savings_insurance\",\n",
    "                    32,\n",
    "                    \"none\",\n",
    "                    \"own\",\n",
    "                    1,\n",
    "                    \"skilled\",\n",
    "                    1,\n",
    "                    \"none\",\n",
    "                    \"yes\"\n",
    "                ]\n",
    "            ]\n",
    "        }\n",
    "    ]\n",
    "}"
   ]
  },
  {
   "cell_type": "code",
   "execution_count": 84,
   "id": "0233bd22-ccc4-4df5-9ee0-ba21a17f68ae",
   "metadata": {},
   "outputs": [
    {
     "name": "stdout",
     "output_type": "stream",
     "text": [
      "<class 'dict'>\n"
     ]
    }
   ],
   "source": [
    "print(type(data))"
   ]
  },
  {
   "cell_type": "code",
   "execution_count": 89,
   "id": "5ea4892a-9f60-4c31-9a3d-50f35acbe37b",
   "metadata": {},
   "outputs": [],
   "source": [
    "wxid = \"44eb1238-82a0-49e7-83bd-50285525925e\"\n",
    "t = get_bt(\"UnTWZsnDJGHo1o8x7OvbZPLmF8jNyJOq4heblL6Bo0aO\")\n",
    "p = get_prediction(t, data)"
   ]
  },
  {
   "cell_type": "code",
   "execution_count": 90,
   "id": "41d3785f-626a-4269-abc1-4f414acd904b",
   "metadata": {},
   "outputs": [
    {
     "data": {
      "text/plain": [
       "b'{\"predictions\":[{\"fields\":[\"prediction\",\"probability\"],\"values\":[[\"No Risk\",[0.7313631772994995,0.2686368525028229]]]}]}'"
      ]
     },
     "execution_count": 90,
     "metadata": {},
     "output_type": "execute_result"
    }
   ],
   "source": [
    "p._content"
   ]
  },
  {
   "cell_type": "code",
   "execution_count": null,
   "id": "7fcf01fa-da5d-401f-a3e2-ce62b20ba05f",
   "metadata": {},
   "outputs": [],
   "source": []
  }
 ],
 "metadata": {
  "kernelspec": {
   "display_name": "Python 3 (ipykernel)",
   "language": "python",
   "name": "python3"
  },
  "language_info": {
   "codemirror_mode": {
    "name": "ipython",
    "version": 3
   },
   "file_extension": ".py",
   "mimetype": "text/x-python",
   "name": "python",
   "nbconvert_exporter": "python",
   "pygments_lexer": "ipython3",
   "version": "3.9.6"
  }
 },
 "nbformat": 4,
 "nbformat_minor": 5
}
